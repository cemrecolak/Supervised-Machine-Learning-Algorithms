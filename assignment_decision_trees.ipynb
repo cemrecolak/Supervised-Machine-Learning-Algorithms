{
 "cells": [
  {
   "cell_type": "markdown",
   "metadata": {},
   "source": [
    "# Assignment - Decision Trees"
   ]
  },
  {
   "cell_type": "markdown",
   "metadata": {},
   "source": [
    "1) Using the data sets you use in the second project, the regression project and the third project, the classification project, create regression and classification models with decision trees and determine the most appropriate parameter values for these models. You can use the cross-validation methods you learned in the previous section to find the ideal parameter."
   ]
  },
  {
   "cell_type": "markdown",
   "metadata": {},
   "source": [
    "## 1.1. Classification with Decision Tree"
   ]
  },
  {
   "cell_type": "code",
   "execution_count": 1,
   "metadata": {},
   "outputs": [
    {
     "data": {
      "text/html": [
       "<div>\n",
       "<style scoped>\n",
       "    .dataframe tbody tr th:only-of-type {\n",
       "        vertical-align: middle;\n",
       "    }\n",
       "\n",
       "    .dataframe tbody tr th {\n",
       "        vertical-align: top;\n",
       "    }\n",
       "\n",
       "    .dataframe thead th {\n",
       "        text-align: right;\n",
       "    }\n",
       "</style>\n",
       "<table border=\"1\" class=\"dataframe\">\n",
       "  <thead>\n",
       "    <tr style=\"text-align: right;\">\n",
       "      <th></th>\n",
       "      <th>age</th>\n",
       "      <th>sex</th>\n",
       "      <th>cp</th>\n",
       "      <th>trestbps</th>\n",
       "      <th>chol</th>\n",
       "      <th>fbs</th>\n",
       "      <th>restecg</th>\n",
       "      <th>thalach</th>\n",
       "      <th>exang</th>\n",
       "      <th>oldpeak</th>\n",
       "      <th>slope</th>\n",
       "      <th>ca</th>\n",
       "      <th>thal</th>\n",
       "      <th>num</th>\n",
       "    </tr>\n",
       "  </thead>\n",
       "  <tbody>\n",
       "    <tr>\n",
       "      <th>0</th>\n",
       "      <td>63.0</td>\n",
       "      <td>1.0</td>\n",
       "      <td>1.0</td>\n",
       "      <td>145.0</td>\n",
       "      <td>233.0</td>\n",
       "      <td>1.0</td>\n",
       "      <td>2.0</td>\n",
       "      <td>150.0</td>\n",
       "      <td>0.0</td>\n",
       "      <td>2.3</td>\n",
       "      <td>3.0</td>\n",
       "      <td>0.0</td>\n",
       "      <td>6.0</td>\n",
       "      <td>0</td>\n",
       "    </tr>\n",
       "    <tr>\n",
       "      <th>1</th>\n",
       "      <td>37.0</td>\n",
       "      <td>1.0</td>\n",
       "      <td>3.0</td>\n",
       "      <td>130.0</td>\n",
       "      <td>250.0</td>\n",
       "      <td>0.0</td>\n",
       "      <td>0.0</td>\n",
       "      <td>187.0</td>\n",
       "      <td>0.0</td>\n",
       "      <td>3.5</td>\n",
       "      <td>3.0</td>\n",
       "      <td>0.0</td>\n",
       "      <td>3.0</td>\n",
       "      <td>0</td>\n",
       "    </tr>\n",
       "    <tr>\n",
       "      <th>2</th>\n",
       "      <td>41.0</td>\n",
       "      <td>0.0</td>\n",
       "      <td>2.0</td>\n",
       "      <td>130.0</td>\n",
       "      <td>204.0</td>\n",
       "      <td>0.0</td>\n",
       "      <td>2.0</td>\n",
       "      <td>172.0</td>\n",
       "      <td>0.0</td>\n",
       "      <td>1.4</td>\n",
       "      <td>1.0</td>\n",
       "      <td>0.0</td>\n",
       "      <td>3.0</td>\n",
       "      <td>0</td>\n",
       "    </tr>\n",
       "    <tr>\n",
       "      <th>3</th>\n",
       "      <td>56.0</td>\n",
       "      <td>1.0</td>\n",
       "      <td>2.0</td>\n",
       "      <td>120.0</td>\n",
       "      <td>236.0</td>\n",
       "      <td>0.0</td>\n",
       "      <td>0.0</td>\n",
       "      <td>178.0</td>\n",
       "      <td>0.0</td>\n",
       "      <td>0.8</td>\n",
       "      <td>1.0</td>\n",
       "      <td>0.0</td>\n",
       "      <td>3.0</td>\n",
       "      <td>0</td>\n",
       "    </tr>\n",
       "    <tr>\n",
       "      <th>4</th>\n",
       "      <td>57.0</td>\n",
       "      <td>0.0</td>\n",
       "      <td>4.0</td>\n",
       "      <td>120.0</td>\n",
       "      <td>354.0</td>\n",
       "      <td>0.0</td>\n",
       "      <td>0.0</td>\n",
       "      <td>163.0</td>\n",
       "      <td>1.0</td>\n",
       "      <td>0.6</td>\n",
       "      <td>1.0</td>\n",
       "      <td>0.0</td>\n",
       "      <td>3.0</td>\n",
       "      <td>0</td>\n",
       "    </tr>\n",
       "  </tbody>\n",
       "</table>\n",
       "</div>"
      ],
      "text/plain": [
       "    age  sex   cp  trestbps   chol  fbs  restecg  thalach  exang  oldpeak  \\\n",
       "0  63.0  1.0  1.0     145.0  233.0  1.0      2.0    150.0    0.0      2.3   \n",
       "1  37.0  1.0  3.0     130.0  250.0  0.0      0.0    187.0    0.0      3.5   \n",
       "2  41.0  0.0  2.0     130.0  204.0  0.0      2.0    172.0    0.0      1.4   \n",
       "3  56.0  1.0  2.0     120.0  236.0  0.0      0.0    178.0    0.0      0.8   \n",
       "4  57.0  0.0  4.0     120.0  354.0  0.0      0.0    163.0    1.0      0.6   \n",
       "\n",
       "   slope   ca  thal  num  \n",
       "0    3.0  0.0   6.0    0  \n",
       "1    3.0  0.0   3.0    0  \n",
       "2    1.0  0.0   3.0    0  \n",
       "3    1.0  0.0   3.0    0  \n",
       "4    1.0  0.0   3.0    0  "
      ]
     },
     "execution_count": 1,
     "metadata": {},
     "output_type": "execute_result"
    }
   ],
   "source": [
    "import pandas as pd\n",
    "import numpy as np\n",
    "import sklearn.tree as tree\n",
    "import scipy\n",
    "import matplotlib.pyplot as plt\n",
    "import warnings\n",
    "warnings.filterwarnings(\"ignore\")\n",
    "\n",
    "df_heart_attack = pd.read_csv('risk_of_heart_attack2.csv')\n",
    "df_heart_attack.head()"
   ]
  },
  {
   "cell_type": "code",
   "execution_count": 2,
   "metadata": {},
   "outputs": [],
   "source": [
    "from sklearn.tree import DecisionTreeClassifier\n",
    "from sklearn.model_selection import train_test_split\n",
    "from sklearn.metrics import accuracy_score"
   ]
  },
  {
   "cell_type": "code",
   "execution_count": 3,
   "metadata": {},
   "outputs": [
    {
     "name": "stdout",
     "output_type": "stream",
     "text": [
      "Decision Tree Accuracy: 0.8889\n"
     ]
    }
   ],
   "source": [
    "X=df_heart_attack.drop('num',axis=1)\n",
    "y=df_heart_attack['num']\n",
    "\n",
    "X_train, X_test, y_train, y_test = train_test_split(X, y, test_size=0.2, random_state=11, stratify=y)\n",
    "\n",
    "decision_tree = DecisionTreeClassifier(random_state = 111)\n",
    "decision_tree.fit(X_train, y_train)\n",
    "y_pred = decision_tree.predict(X_test)\n",
    "\n",
    "print(\"Decision Tree Accuracy: {:.4f}\".format(accuracy_score(y_test, y_pred)))"
   ]
  },
  {
   "cell_type": "code",
   "execution_count": 4,
   "metadata": {},
   "outputs": [
    {
     "data": {
      "text/plain": [
       "GridSearchCV(cv=5, estimator=DecisionTreeClassifier(random_state=111),\n",
       "             param_grid={'criterion': ['gini', 'entropy'],\n",
       "                         'max_depth': [2, 3, 4, 5],\n",
       "                         'min_samples_split': [2, 3, 4],\n",
       "                         'splitter': ['best', 'random']})"
      ]
     },
     "execution_count": 4,
     "metadata": {},
     "output_type": "execute_result"
    }
   ],
   "source": [
    "from sklearn.model_selection import GridSearchCV\n",
    "\n",
    "parameters = {\"criterion\":['gini', 'entropy'],\n",
    "              \"splitter\":['best', 'random'],\n",
    "              \"max_depth\": [2, 3, 4, 5],\n",
    "              \"min_samples_split\": [2, 3, 4]\n",
    "             }\n",
    "\n",
    "grid_cv = GridSearchCV(estimator=decision_tree, param_grid=parameters, cv=5)\n",
    "grid_cv.fit(X_train, y_train)"
   ]
  },
  {
   "cell_type": "code",
   "execution_count": 5,
   "metadata": {},
   "outputs": [
    {
     "data": {
      "text/html": [
       "<div>\n",
       "<style scoped>\n",
       "    .dataframe tbody tr th:only-of-type {\n",
       "        vertical-align: middle;\n",
       "    }\n",
       "\n",
       "    .dataframe tbody tr th {\n",
       "        vertical-align: top;\n",
       "    }\n",
       "\n",
       "    .dataframe thead th {\n",
       "        text-align: right;\n",
       "    }\n",
       "</style>\n",
       "<table border=\"1\" class=\"dataframe\">\n",
       "  <thead>\n",
       "    <tr style=\"text-align: right;\">\n",
       "      <th></th>\n",
       "      <th>param_criterion</th>\n",
       "      <th>param_splitter</th>\n",
       "      <th>param_max_depth</th>\n",
       "      <th>param_min_samples_split</th>\n",
       "      <th>mean_test_score</th>\n",
       "    </tr>\n",
       "  </thead>\n",
       "  <tbody>\n",
       "    <tr>\n",
       "      <th>6</th>\n",
       "      <td>gini</td>\n",
       "      <td>best</td>\n",
       "      <td>3</td>\n",
       "      <td>2</td>\n",
       "      <td>0.943350</td>\n",
       "    </tr>\n",
       "    <tr>\n",
       "      <th>36</th>\n",
       "      <td>entropy</td>\n",
       "      <td>best</td>\n",
       "      <td>4</td>\n",
       "      <td>2</td>\n",
       "      <td>0.936207</td>\n",
       "    </tr>\n",
       "    <tr>\n",
       "      <th>12</th>\n",
       "      <td>gini</td>\n",
       "      <td>best</td>\n",
       "      <td>4</td>\n",
       "      <td>2</td>\n",
       "      <td>0.936207</td>\n",
       "    </tr>\n",
       "    <tr>\n",
       "      <th>10</th>\n",
       "      <td>gini</td>\n",
       "      <td>best</td>\n",
       "      <td>3</td>\n",
       "      <td>4</td>\n",
       "      <td>0.929064</td>\n",
       "    </tr>\n",
       "    <tr>\n",
       "      <th>8</th>\n",
       "      <td>gini</td>\n",
       "      <td>best</td>\n",
       "      <td>3</td>\n",
       "      <td>3</td>\n",
       "      <td>0.929064</td>\n",
       "    </tr>\n",
       "    <tr>\n",
       "      <th>42</th>\n",
       "      <td>entropy</td>\n",
       "      <td>best</td>\n",
       "      <td>5</td>\n",
       "      <td>2</td>\n",
       "      <td>0.929064</td>\n",
       "    </tr>\n",
       "    <tr>\n",
       "      <th>17</th>\n",
       "      <td>gini</td>\n",
       "      <td>random</td>\n",
       "      <td>4</td>\n",
       "      <td>4</td>\n",
       "      <td>0.929064</td>\n",
       "    </tr>\n",
       "    <tr>\n",
       "      <th>44</th>\n",
       "      <td>entropy</td>\n",
       "      <td>best</td>\n",
       "      <td>5</td>\n",
       "      <td>3</td>\n",
       "      <td>0.929064</td>\n",
       "    </tr>\n",
       "    <tr>\n",
       "      <th>18</th>\n",
       "      <td>gini</td>\n",
       "      <td>best</td>\n",
       "      <td>5</td>\n",
       "      <td>2</td>\n",
       "      <td>0.929064</td>\n",
       "    </tr>\n",
       "    <tr>\n",
       "      <th>13</th>\n",
       "      <td>gini</td>\n",
       "      <td>random</td>\n",
       "      <td>4</td>\n",
       "      <td>2</td>\n",
       "      <td>0.929064</td>\n",
       "    </tr>\n",
       "  </tbody>\n",
       "</table>\n",
       "</div>"
      ],
      "text/plain": [
       "   param_criterion param_splitter param_max_depth param_min_samples_split  \\\n",
       "6             gini           best               3                       2   \n",
       "36         entropy           best               4                       2   \n",
       "12            gini           best               4                       2   \n",
       "10            gini           best               3                       4   \n",
       "8             gini           best               3                       3   \n",
       "42         entropy           best               5                       2   \n",
       "17            gini         random               4                       4   \n",
       "44         entropy           best               5                       3   \n",
       "18            gini           best               5                       2   \n",
       "13            gini         random               4                       2   \n",
       "\n",
       "    mean_test_score  \n",
       "6          0.943350  \n",
       "36         0.936207  \n",
       "12         0.936207  \n",
       "10         0.929064  \n",
       "8          0.929064  \n",
       "42         0.929064  \n",
       "17         0.929064  \n",
       "44         0.929064  \n",
       "18         0.929064  \n",
       "13         0.929064  "
      ]
     },
     "execution_count": 5,
     "metadata": {},
     "output_type": "execute_result"
    }
   ],
   "source": [
    "df = pd.DataFrame(grid_cv.cv_results_)\n",
    "df = df[['param_criterion','param_splitter','param_max_depth', 'param_min_samples_split','mean_test_score']]\n",
    "df = df.sort_values(by='mean_test_score', ascending = False)\n",
    "df.head(10)"
   ]
  },
  {
   "cell_type": "code",
   "execution_count": 6,
   "metadata": {},
   "outputs": [
    {
     "name": "stdout",
     "output_type": "stream",
     "text": [
      "Best parameters for our model:\n",
      " {'criterion': 'gini', 'max_depth': 3, 'min_samples_split': 2, 'splitter': 'best'}\n"
     ]
    }
   ],
   "source": [
    "print(\"Best parameters for our model:\\n\",grid_cv.best_params_)"
   ]
  },
  {
   "cell_type": "markdown",
   "metadata": {},
   "source": [
    "## 1.2. Regression with Decision Tree"
   ]
  },
  {
   "cell_type": "code",
   "execution_count": 7,
   "metadata": {},
   "outputs": [
    {
     "data": {
      "text/html": [
       "<div>\n",
       "<style scoped>\n",
       "    .dataframe tbody tr th:only-of-type {\n",
       "        vertical-align: middle;\n",
       "    }\n",
       "\n",
       "    .dataframe tbody tr th {\n",
       "        vertical-align: top;\n",
       "    }\n",
       "\n",
       "    .dataframe thead th {\n",
       "        text-align: right;\n",
       "    }\n",
       "</style>\n",
       "<table border=\"1\" class=\"dataframe\">\n",
       "  <thead>\n",
       "    <tr style=\"text-align: right;\">\n",
       "      <th></th>\n",
       "      <th>SalePrice</th>\n",
       "      <th>BsmtQual</th>\n",
       "      <th>PoolQC</th>\n",
       "      <th>YearBuilt</th>\n",
       "      <th>OverallQual</th>\n",
       "      <th>GrLivArea</th>\n",
       "      <th>GarageCars</th>\n",
       "    </tr>\n",
       "  </thead>\n",
       "  <tbody>\n",
       "    <tr>\n",
       "      <th>0</th>\n",
       "      <td>208500</td>\n",
       "      <td>3</td>\n",
       "      <td>0</td>\n",
       "      <td>2003</td>\n",
       "      <td>7</td>\n",
       "      <td>1710</td>\n",
       "      <td>2</td>\n",
       "    </tr>\n",
       "    <tr>\n",
       "      <th>1</th>\n",
       "      <td>181500</td>\n",
       "      <td>3</td>\n",
       "      <td>0</td>\n",
       "      <td>1976</td>\n",
       "      <td>6</td>\n",
       "      <td>1262</td>\n",
       "      <td>2</td>\n",
       "    </tr>\n",
       "    <tr>\n",
       "      <th>2</th>\n",
       "      <td>223500</td>\n",
       "      <td>3</td>\n",
       "      <td>0</td>\n",
       "      <td>2001</td>\n",
       "      <td>7</td>\n",
       "      <td>1786</td>\n",
       "      <td>2</td>\n",
       "    </tr>\n",
       "    <tr>\n",
       "      <th>3</th>\n",
       "      <td>140000</td>\n",
       "      <td>2</td>\n",
       "      <td>0</td>\n",
       "      <td>1915</td>\n",
       "      <td>7</td>\n",
       "      <td>1717</td>\n",
       "      <td>3</td>\n",
       "    </tr>\n",
       "    <tr>\n",
       "      <th>4</th>\n",
       "      <td>250000</td>\n",
       "      <td>3</td>\n",
       "      <td>0</td>\n",
       "      <td>2000</td>\n",
       "      <td>8</td>\n",
       "      <td>2198</td>\n",
       "      <td>3</td>\n",
       "    </tr>\n",
       "  </tbody>\n",
       "</table>\n",
       "</div>"
      ],
      "text/plain": [
       "   SalePrice  BsmtQual  PoolQC  YearBuilt  OverallQual  GrLivArea  GarageCars\n",
       "0     208500         3       0       2003            7       1710           2\n",
       "1     181500         3       0       1976            6       1262           2\n",
       "2     223500         3       0       2001            7       1786           2\n",
       "3     140000         2       0       1915            7       1717           3\n",
       "4     250000         3       0       2000            8       2198           3"
      ]
     },
     "execution_count": 7,
     "metadata": {},
     "output_type": "execute_result"
    }
   ],
   "source": [
    "df_house_prices = pd.read_csv('house_prices2.csv')\n",
    "df_house_prices.head()"
   ]
  },
  {
   "cell_type": "code",
   "execution_count": 8,
   "metadata": {},
   "outputs": [],
   "source": [
    "from sklearn.tree import DecisionTreeRegressor\n",
    "from sklearn.metrics import mean_absolute_error as mae, mean_squared_error as mse"
   ]
  },
  {
   "cell_type": "code",
   "execution_count": 9,
   "metadata": {},
   "outputs": [
    {
     "name": "stdout",
     "output_type": "stream",
     "text": [
      "Decision Tree MAE: 30467.928\n",
      "Decision Tree MSE: 2416997563.825\n",
      "Decision Tree RMSE: 49162.969\n"
     ]
    }
   ],
   "source": [
    "X = df_house_prices.drop('SalePrice', axis=1)\n",
    "y = df_house_prices['SalePrice']\n",
    "\n",
    "X_train, X_test, y_train, y_test = train_test_split(X, y, test_size=0.2, random_state=11)\n",
    "\n",
    "dt_reg = DecisionTreeRegressor(max_depth=3)\n",
    "dt_reg.fit(X_train, y_train)\n",
    "\n",
    "y_pred = dt_reg.predict(X_test)\n",
    "dt_mae = mae(y_pred, y_test)\n",
    "dt_mse = mse(y_pred, y_test)\n",
    "dt_rmse = dt_mse**(1/2)\n",
    "\n",
    "print(\"Decision Tree MAE: {:.3f}\".format(dt_mae))\n",
    "print(\"Decision Tree MSE: {:.3f}\".format(dt_mse))\n",
    "print(\"Decision Tree RMSE: {:.3f}\".format(dt_rmse))"
   ]
  },
  {
   "cell_type": "code",
   "execution_count": 10,
   "metadata": {},
   "outputs": [
    {
     "data": {
      "text/plain": [
       "GridSearchCV(cv=5, estimator=DecisionTreeRegressor(max_depth=3),\n",
       "             param_grid={'criterion': ['mse', 'friedman_mse', 'mae', 'poisson'],\n",
       "                         'max_depth': [4, 5, 6, 7],\n",
       "                         'min_samples_split': [2, 3, 4, 5],\n",
       "                         'splitter': ['best', 'random']})"
      ]
     },
     "execution_count": 10,
     "metadata": {},
     "output_type": "execute_result"
    }
   ],
   "source": [
    "from sklearn.model_selection import GridSearchCV\n",
    "\n",
    "parameters = {\"criterion\":['mse', 'friedman_mse', 'mae', 'poisson'],\n",
    "              \"splitter\":['best', 'random'],\n",
    "              \"max_depth\": [4, 5, 6, 7],\n",
    "              \"min_samples_split\": [2, 3, 4, 5]\n",
    "             }\n",
    "\n",
    "grid_cv = GridSearchCV(estimator=dt_reg, param_grid=parameters, cv=5)\n",
    "grid_cv.fit(X_train, y_train)"
   ]
  },
  {
   "cell_type": "code",
   "execution_count": 11,
   "metadata": {},
   "outputs": [
    {
     "data": {
      "text/html": [
       "<div>\n",
       "<style scoped>\n",
       "    .dataframe tbody tr th:only-of-type {\n",
       "        vertical-align: middle;\n",
       "    }\n",
       "\n",
       "    .dataframe tbody tr th {\n",
       "        vertical-align: top;\n",
       "    }\n",
       "\n",
       "    .dataframe thead th {\n",
       "        text-align: right;\n",
       "    }\n",
       "</style>\n",
       "<table border=\"1\" class=\"dataframe\">\n",
       "  <thead>\n",
       "    <tr style=\"text-align: right;\">\n",
       "      <th></th>\n",
       "      <th>param_criterion</th>\n",
       "      <th>param_splitter</th>\n",
       "      <th>param_max_depth</th>\n",
       "      <th>param_min_samples_split</th>\n",
       "      <th>mean_test_score</th>\n",
       "    </tr>\n",
       "  </thead>\n",
       "  <tbody>\n",
       "    <tr>\n",
       "      <th>80</th>\n",
       "      <td>mae</td>\n",
       "      <td>best</td>\n",
       "      <td>6</td>\n",
       "      <td>2</td>\n",
       "      <td>0.753722</td>\n",
       "    </tr>\n",
       "    <tr>\n",
       "      <th>22</th>\n",
       "      <td>mse</td>\n",
       "      <td>best</td>\n",
       "      <td>6</td>\n",
       "      <td>5</td>\n",
       "      <td>0.748443</td>\n",
       "    </tr>\n",
       "    <tr>\n",
       "      <th>52</th>\n",
       "      <td>friedman_mse</td>\n",
       "      <td>best</td>\n",
       "      <td>6</td>\n",
       "      <td>4</td>\n",
       "      <td>0.748420</td>\n",
       "    </tr>\n",
       "    <tr>\n",
       "      <th>54</th>\n",
       "      <td>friedman_mse</td>\n",
       "      <td>best</td>\n",
       "      <td>6</td>\n",
       "      <td>5</td>\n",
       "      <td>0.747925</td>\n",
       "    </tr>\n",
       "    <tr>\n",
       "      <th>76</th>\n",
       "      <td>mae</td>\n",
       "      <td>best</td>\n",
       "      <td>5</td>\n",
       "      <td>4</td>\n",
       "      <td>0.747906</td>\n",
       "    </tr>\n",
       "    <tr>\n",
       "      <th>18</th>\n",
       "      <td>mse</td>\n",
       "      <td>best</td>\n",
       "      <td>6</td>\n",
       "      <td>3</td>\n",
       "      <td>0.747337</td>\n",
       "    </tr>\n",
       "    <tr>\n",
       "      <th>20</th>\n",
       "      <td>mse</td>\n",
       "      <td>best</td>\n",
       "      <td>6</td>\n",
       "      <td>4</td>\n",
       "      <td>0.746984</td>\n",
       "    </tr>\n",
       "    <tr>\n",
       "      <th>78</th>\n",
       "      <td>mae</td>\n",
       "      <td>best</td>\n",
       "      <td>5</td>\n",
       "      <td>5</td>\n",
       "      <td>0.746274</td>\n",
       "    </tr>\n",
       "    <tr>\n",
       "      <th>48</th>\n",
       "      <td>friedman_mse</td>\n",
       "      <td>best</td>\n",
       "      <td>6</td>\n",
       "      <td>2</td>\n",
       "      <td>0.746250</td>\n",
       "    </tr>\n",
       "    <tr>\n",
       "      <th>74</th>\n",
       "      <td>mae</td>\n",
       "      <td>best</td>\n",
       "      <td>5</td>\n",
       "      <td>3</td>\n",
       "      <td>0.745695</td>\n",
       "    </tr>\n",
       "  </tbody>\n",
       "</table>\n",
       "</div>"
      ],
      "text/plain": [
       "   param_criterion param_splitter param_max_depth param_min_samples_split  \\\n",
       "80             mae           best               6                       2   \n",
       "22             mse           best               6                       5   \n",
       "52    friedman_mse           best               6                       4   \n",
       "54    friedman_mse           best               6                       5   \n",
       "76             mae           best               5                       4   \n",
       "18             mse           best               6                       3   \n",
       "20             mse           best               6                       4   \n",
       "78             mae           best               5                       5   \n",
       "48    friedman_mse           best               6                       2   \n",
       "74             mae           best               5                       3   \n",
       "\n",
       "    mean_test_score  \n",
       "80         0.753722  \n",
       "22         0.748443  \n",
       "52         0.748420  \n",
       "54         0.747925  \n",
       "76         0.747906  \n",
       "18         0.747337  \n",
       "20         0.746984  \n",
       "78         0.746274  \n",
       "48         0.746250  \n",
       "74         0.745695  "
      ]
     },
     "execution_count": 11,
     "metadata": {},
     "output_type": "execute_result"
    }
   ],
   "source": [
    "df = pd.DataFrame(grid_cv.cv_results_)\n",
    "df = df[['param_criterion','param_splitter','param_max_depth', 'param_min_samples_split', 'mean_test_score']]\n",
    "df = df.sort_values(by='mean_test_score', ascending = False)\n",
    "df.head(10)"
   ]
  },
  {
   "cell_type": "code",
   "execution_count": 12,
   "metadata": {},
   "outputs": [
    {
     "name": "stdout",
     "output_type": "stream",
     "text": [
      "Best parameters for our model:\n",
      " {'criterion': 'mae', 'max_depth': 6, 'min_samples_split': 2, 'splitter': 'best'}\n"
     ]
    }
   ],
   "source": [
    "print(\"Best parameters for our model:\\n\",grid_cv.best_params_)"
   ]
  },
  {
   "cell_type": "markdown",
   "metadata": {},
   "source": [
    "2) Using below given table answer questions a and b.\n",
    "\n",
    "<b>(a)</b> Using the dataset above, we want to build a decision tree which classifies Y as T/F given the binary variables A,B,C. Draw the tree that would be learned by the greedy algorithm with zero training error. You do not need to show any computation."
   ]
  },
  {
   "cell_type": "code",
   "execution_count": 13,
   "metadata": {
    "colab": {
     "base_uri": "https://localhost:8080/",
     "height": 166
    },
    "id": "bQsFrAPUBtI7",
    "outputId": "644be820-ea94-4c72-bf23-5d472d462cf5"
   },
   "outputs": [
    {
     "data": {
      "text/html": [
       "<div>\n",
       "<style scoped>\n",
       "    .dataframe tbody tr th:only-of-type {\n",
       "        vertical-align: middle;\n",
       "    }\n",
       "\n",
       "    .dataframe tbody tr th {\n",
       "        vertical-align: top;\n",
       "    }\n",
       "\n",
       "    .dataframe thead th {\n",
       "        text-align: right;\n",
       "    }\n",
       "</style>\n",
       "<table border=\"1\" class=\"dataframe\">\n",
       "  <thead>\n",
       "    <tr style=\"text-align: right;\">\n",
       "      <th></th>\n",
       "      <th>A</th>\n",
       "      <th>B</th>\n",
       "      <th>C</th>\n",
       "      <th>Y</th>\n",
       "    </tr>\n",
       "  </thead>\n",
       "  <tbody>\n",
       "    <tr>\n",
       "      <th>0</th>\n",
       "      <td>F</td>\n",
       "      <td>F</td>\n",
       "      <td>F</td>\n",
       "      <td>F</td>\n",
       "    </tr>\n",
       "    <tr>\n",
       "      <th>1</th>\n",
       "      <td>T</td>\n",
       "      <td>F</td>\n",
       "      <td>T</td>\n",
       "      <td>T</td>\n",
       "    </tr>\n",
       "    <tr>\n",
       "      <th>2</th>\n",
       "      <td>T</td>\n",
       "      <td>T</td>\n",
       "      <td>F</td>\n",
       "      <td>T</td>\n",
       "    </tr>\n",
       "    <tr>\n",
       "      <th>3</th>\n",
       "      <td>T</td>\n",
       "      <td>T</td>\n",
       "      <td>T</td>\n",
       "      <td>F</td>\n",
       "    </tr>\n",
       "  </tbody>\n",
       "</table>\n",
       "</div>"
      ],
      "text/plain": [
       "   A  B  C  Y\n",
       "0  F  F  F  F\n",
       "1  T  F  T  T\n",
       "2  T  T  F  T\n",
       "3  T  T  T  F"
      ]
     },
     "execution_count": 13,
     "metadata": {},
     "output_type": "execute_result"
    }
   ],
   "source": [
    "import pandas as pd\n",
    "label_dict = {'A': ['F','T','T','T'],\n",
    "              'B': ['F','F','T','T'],\n",
    "              'C': ['F','T','F','T'],\n",
    "              'Y':['F','T','T','F']}\n",
    "\n",
    "df_dict = pd.DataFrame(label_dict)\n",
    "df_dict"
   ]
  },
  {
   "cell_type": "markdown",
   "metadata": {
    "id": "oc6bXbtcB50A"
   },
   "source": [
    "![ans1.png](data:image/png;base64,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)"
   ]
  },
  {
   "cell_type": "markdown",
   "metadata": {},
   "source": [
    "<b>(b)</b> Is this tree optimal (i.e. does it get zero training error with minimal depth)? Explain in less than two sentences. If it is not optimal, draw the optimal tree as well."
   ]
  },
  {
   "cell_type": "markdown",
   "metadata": {},
   "source": [
    "No, that tree is not optimal. We can build a tree of depth 2 which classifies correctly and is optimal."
   ]
  },
  {
   "cell_type": "markdown",
   "metadata": {
    "id": "NaoMLwxLS16e"
   },
   "source": [
    "![ans2.png](data:image/png;base64,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)"
   ]
  },
  {
   "cell_type": "markdown",
   "metadata": {},
   "source": [
    "3) We will use the dataset below to learn a decision tree which predicts if people pass machine learning (Yes or No), based on their previous GPA (High, Medium, or Low) and whether or not they studied."
   ]
  },
  {
   "cell_type": "code",
   "execution_count": 14,
   "metadata": {},
   "outputs": [
    {
     "data": {
      "text/html": [
       "<div>\n",
       "<style scoped>\n",
       "    .dataframe tbody tr th:only-of-type {\n",
       "        vertical-align: middle;\n",
       "    }\n",
       "\n",
       "    .dataframe tbody tr th {\n",
       "        vertical-align: top;\n",
       "    }\n",
       "\n",
       "    .dataframe thead th {\n",
       "        text-align: right;\n",
       "    }\n",
       "</style>\n",
       "<table border=\"1\" class=\"dataframe\">\n",
       "  <thead>\n",
       "    <tr style=\"text-align: right;\">\n",
       "      <th></th>\n",
       "      <th>GPA</th>\n",
       "      <th>Studied</th>\n",
       "      <th>Passed</th>\n",
       "    </tr>\n",
       "  </thead>\n",
       "  <tbody>\n",
       "    <tr>\n",
       "      <th>0</th>\n",
       "      <td>L</td>\n",
       "      <td>F</td>\n",
       "      <td>F</td>\n",
       "    </tr>\n",
       "    <tr>\n",
       "      <th>1</th>\n",
       "      <td>L</td>\n",
       "      <td>T</td>\n",
       "      <td>T</td>\n",
       "    </tr>\n",
       "    <tr>\n",
       "      <th>2</th>\n",
       "      <td>M</td>\n",
       "      <td>F</td>\n",
       "      <td>F</td>\n",
       "    </tr>\n",
       "    <tr>\n",
       "      <th>3</th>\n",
       "      <td>M</td>\n",
       "      <td>T</td>\n",
       "      <td>T</td>\n",
       "    </tr>\n",
       "    <tr>\n",
       "      <th>4</th>\n",
       "      <td>H</td>\n",
       "      <td>F</td>\n",
       "      <td>T</td>\n",
       "    </tr>\n",
       "    <tr>\n",
       "      <th>5</th>\n",
       "      <td>H</td>\n",
       "      <td>T</td>\n",
       "      <td>T</td>\n",
       "    </tr>\n",
       "  </tbody>\n",
       "</table>\n",
       "</div>"
      ],
      "text/plain": [
       "  GPA Studied Passed\n",
       "0   L       F      F\n",
       "1   L       T      T\n",
       "2   M       F      F\n",
       "3   M       T      T\n",
       "4   H       F      T\n",
       "5   H       T      T"
      ]
     },
     "execution_count": 14,
     "metadata": {},
     "output_type": "execute_result"
    }
   ],
   "source": [
    "dec_tree = {'GPA': ['L','L','M','M','H','H'],\n",
    "            'Studied': ['F','T','F','T','F','T'],\n",
    "            'Passed': ['F','T','F','T','T','T']}\n",
    "df_dec_tree = pd.DataFrame(dec_tree)\n",
    "df_dec_tree"
   ]
  },
  {
   "cell_type": "markdown",
   "metadata": {},
   "source": [
    "<b>(a)</b> What is the entropy H(Passed)?"
   ]
  },
  {
   "cell_type": "markdown",
   "metadata": {},
   "source": [
    "$$H(Passed) = -(\\frac{2}{6}\\log_{2}\\frac{2}{6}+\\frac{4}{6}\\log_{2}\\frac{4}{6})$$\n",
    "$$H(Passed) = -(\\frac{1}{3}\\log_{2}\\frac{1}{3}+\\frac{2}{3}\\log_{2}\\frac{2}{3})$$"
   ]
  },
  {
   "cell_type": "code",
   "execution_count": 15,
   "metadata": {},
   "outputs": [
    {
     "name": "stdout",
     "output_type": "stream",
     "text": [
      "The entropy of H(Passed): 0.92\n"
     ]
    }
   ],
   "source": [
    "import math\n",
    "result = -(1/3*(math.log2(1/3)) + 2/3*(math.log2(2/3)))\n",
    "print(\"The entropy of H(Passed): {:.2f}\".format(result))"
   ]
  },
  {
   "cell_type": "markdown",
   "metadata": {},
   "source": [
    "<b>(b)</b> What is the entropy H(Passed | GPA)?"
   ]
  },
  {
   "cell_type": "markdown",
   "metadata": {},
   "source": [
    "$$H(Passed|GPA)  = -\\frac{1}{3}(\\frac{1}{2}\\log_{2}\\frac{1}{2}+\\frac{1}{2}\\log_{2}\\frac{1}{2})-\\frac{1}{3}(\\frac{1}{2}\\log_{2}\\frac{1}{2}+\\frac{1}{2}\\log_{2}\\frac{1}{2})-\\frac{1}{3}(1\\log_{2}1)$$\n",
    "$$H(Passed|GPA) = \\frac{1}{3}(1)+\\frac{1}{3}(1)+\\frac{1}{3}(0)$$\n",
    "$$H(Passed|GPA) = \\frac{2}{3} \\approx 0.66$$"
   ]
  },
  {
   "cell_type": "markdown",
   "metadata": {},
   "source": [
    "<b>(c)</b> What is the entropy H(Passed | Studied)?"
   ]
  },
  {
   "cell_type": "code",
   "execution_count": 16,
   "metadata": {},
   "outputs": [
    {
     "name": "stdout",
     "output_type": "stream",
     "text": [
      "The entropy of H(Passed|Studied): 0.46\n"
     ]
    }
   ],
   "source": [
    "result = -1/2*(1/3*(math.log2(1/3)) + 2/3*(math.log2(2/3)))\n",
    "print(\"The entropy of H(Passed|Studied): {:.2f}\".format(result))"
   ]
  },
  {
   "cell_type": "markdown",
   "metadata": {},
   "source": [
    "<b>(4)</b> How to prevent overfitting in decision tree?"
   ]
  },
  {
   "cell_type": "markdown",
   "metadata": {},
   "source": [
    "The decision tree is prone to overfitting in the process of growing, resulting in low generalization ability. There are two main methods that can be used to prevent overfitting.\n",
    "  1) Pre-pruning: that stops growing the tree earlier, before it perfectly classifies the training set.\n",
    "  \n",
    "  2) Post-pruning: that allows the tree to perfectly classify the training set, and then post prune the tree. "
   ]
  }
 ],
 "metadata": {
  "colab": {
   "collapsed_sections": [],
   "name": "assg_decision_tree.ipynb",
   "provenance": []
  },
  "kernelspec": {
   "display_name": "Python 3",
   "language": "python",
   "name": "python3"
  },
  "language_info": {
   "codemirror_mode": {
    "name": "ipython",
    "version": 3
   },
   "file_extension": ".py",
   "mimetype": "text/x-python",
   "name": "python",
   "nbconvert_exporter": "python",
   "pygments_lexer": "ipython3",
   "version": "3.8.5"
  }
 },
 "nbformat": 4,
 "nbformat_minor": 4
}
